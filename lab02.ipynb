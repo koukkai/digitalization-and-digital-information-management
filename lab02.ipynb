{
 "cells": [
  {
   "cell_type": "markdown",
   "metadata": {},
   "source": [
    "### LAB2 : NUMPY,PANDAS VÀ MATPLOTLIB NÂNG CAO\n",
    "### 1. NUMPY"
   ]
  },
  {
   "cell_type": "code",
   "execution_count": 4,
   "metadata": {},
   "outputs": [],
   "source": [
    "import numpy as np \n",
    "x = np.array([1,2,3,4,5,6,7,8])"
   ]
  },
  {
   "cell_type": "code",
   "execution_count": 2,
   "metadata": {},
   "outputs": [
    {
     "data": {
      "text/plain": [
       "3"
      ]
     },
     "execution_count": 2,
     "metadata": {},
     "output_type": "execute_result"
    }
   ],
   "source": [
    "# lấy số 3\n",
    "x[2]"
   ]
  },
  {
   "cell_type": "code",
   "execution_count": 3,
   "metadata": {},
   "outputs": [
    {
     "data": {
      "text/plain": [
       "array([1, 2, 3])"
      ]
     },
     "execution_count": 3,
     "metadata": {},
     "output_type": "execute_result"
    }
   ],
   "source": [
    "# lấy 1 2 3 \n",
    "x[:3]"
   ]
  },
  {
   "cell_type": "code",
   "execution_count": 5,
   "metadata": {},
   "outputs": [
    {
     "data": {
      "text/plain": [
       "array([3, 4, 5, 6, 7, 8])"
      ]
     },
     "execution_count": 5,
     "metadata": {},
     "output_type": "execute_result"
    }
   ],
   "source": [
    "# lấy từ 3-8\n",
    "x[2:8]"
   ]
  },
  {
   "cell_type": "code",
   "execution_count": 6,
   "metadata": {},
   "outputs": [
    {
     "data": {
      "text/plain": [
       "array([3, 4, 5, 6, 7, 8])"
      ]
     },
     "execution_count": 6,
     "metadata": {},
     "output_type": "execute_result"
    }
   ],
   "source": [
    "x[2:]"
   ]
  },
  {
   "cell_type": "code",
   "execution_count": 8,
   "metadata": {},
   "outputs": [
    {
     "data": {
      "text/plain": [
       "array([3, 4, 5, 6, 7])"
      ]
     },
     "execution_count": 8,
     "metadata": {},
     "output_type": "execute_result"
    }
   ],
   "source": [
    "# lấy 3 -> 7\n",
    "x[2:7]"
   ]
  },
  {
   "cell_type": "code",
   "execution_count": 9,
   "metadata": {},
   "outputs": [
    {
     "data": {
      "text/plain": [
       "array([3, 4, 5, 6, 7])"
      ]
     },
     "execution_count": 9,
     "metadata": {},
     "output_type": "execute_result"
    }
   ],
   "source": [
    "x[2:-1]\n"
   ]
  },
  {
   "cell_type": "code",
   "execution_count": 10,
   "metadata": {},
   "outputs": [
    {
     "data": {
      "text/plain": [
       "array([7, 8])"
      ]
     },
     "execution_count": 10,
     "metadata": {},
     "output_type": "execute_result"
    }
   ],
   "source": [
    "# 7, 8\n",
    "x[-2:]\n"
   ]
  },
  {
   "cell_type": "code",
   "execution_count": 11,
   "metadata": {},
   "outputs": [
    {
     "data": {
      "text/plain": [
       "(3, 5)"
      ]
     },
     "execution_count": 11,
     "metadata": {},
     "output_type": "execute_result"
    }
   ],
   "source": [
    "# phẩn từ với index 2 và 4\n",
    "x[2],x[4]\n"
   ]
  },
  {
   "cell_type": "code",
   "execution_count": 15,
   "metadata": {},
   "outputs": [
    {
     "name": "stdout",
     "output_type": "stream",
     "text": [
      "[[1 2]\n",
      " [3 4]\n",
      " [5 6]]\n"
     ]
    },
    {
     "data": {
      "text/plain": [
       "2"
      ]
     },
     "execution_count": 15,
     "metadata": {},
     "output_type": "execute_result"
    }
   ],
   "source": [
    "data = [[1,2],[3,4],[5,6]]\n",
    "mang = np.array(data)\n",
    "print(mang)\n",
    "\n",
    "mang[0,1]\n",
    "\n",
    "mang[-1,1]\n"
   ]
  },
  {
   "cell_type": "code",
   "execution_count": 22,
   "metadata": {},
   "outputs": [
    {
     "data": {
      "text/plain": [
       "array([1, 5])"
      ]
     },
     "execution_count": 22,
     "metadata": {},
     "output_type": "execute_result"
    }
   ],
   "source": [
    "#lấy 3 4 5 6 \n",
    "mang [1:, :]\n",
    "\n",
    "mang [1:]\n",
    "\n",
    "mang [[1,2], :]\n",
    "\n",
    "mang [1:3]\n",
    "\n",
    "mang [[ 1, 1, 2, 2], [0, 1 , 0, 1]]\n",
    "\n",
    "mang [-2:]\n",
    "\n"
   ]
  },
  {
   "cell_type": "code",
   "execution_count": null,
   "metadata": {},
   "outputs": [],
   "source": [
    "# lấy 1 3 5\n",
    "mang [:, 0]"
   ]
  },
  {
   "cell_type": "code",
   "execution_count": null,
   "metadata": {},
   "outputs": [],
   "source": [
    "mang [[0,2],00]\n",
    "\n",
    "# lấy 1 và 5 the fomat star: end: step\n",
    "\n",
    "mang [0::2,0]\n",
    "\n",
    "mang [0::2, 0]\n"
   ]
  },
  {
   "cell_type": "code",
   "execution_count": 23,
   "metadata": {},
   "outputs": [],
   "source": [
    "x = [\n",
    "    [1,2,3,4],\n",
    "    [5,6,7,8],\n",
    "    [9,10,11,12],\n",
    "    [13,14,15,16]\n",
    "]\n",
    "\n",
    "x =np.array(x)\n"
   ]
  },
  {
   "cell_type": "code",
   "execution_count": 26,
   "metadata": {},
   "outputs": [
    {
     "data": {
      "text/plain": [
       "[[1, 2, 3, 4], [5, 6, 7, 8], [9, 10, 11, 12], [13, 14, 15, 16]]"
      ]
     },
     "execution_count": 26,
     "metadata": {},
     "output_type": "execute_result"
    }
   ],
   "source": [
    "x"
   ]
  },
  {
   "cell_type": "code",
   "execution_count": null,
   "metadata": {},
   "outputs": [],
   "source": [
    "# lấy 2, 6, 10, 14\n",
    "x[:,1]\n",
    "\n",
    "#lấy 7 và 11\n",
    "x[1:3,2]\n"
   ]
  },
  {
   "cell_type": "code",
   "execution_count": null,
   "metadata": {},
   "outputs": [],
   "source": [
    "#Bài tập tết về nha\n",
    "\n",
    "# Cho ma trận = [[99, 99, 99], [99, 99, 99], [99, 99, 99]]\n",
    "\n",
    "#Giá sứ 0 = 0 và 1 là x\n",
    "#Nhận đậu vào từ phía x và o luận phiên\n",
    "#cho các bạn một cặp chỉ số\n",
    "#Nếu phía x nhập ((0, 0)) thì ma trận trở thành\n",
    "#[[99, 99, 99], [99, 99, 99], [99, 99, 99]]\n",
    "\n",
    "#Nếu phía 0 nhập ((0, 0)) thì yêu cầu nhập lại và nếu không thì điền vào ma trận\n",
    "\n",
    "#Thứ thách của các bạn ởở nhà ăn tết: Nếu ai đó có ba ô liên tiếp thì đúng trò chơi\n"
   ]
  },
  {
   "cell_type": "code",
   "execution_count": 12,
   "metadata": {},
   "outputs": [
    {
     "data": {
      "text/plain": [
       "(9, 6, 3)"
      ]
     },
     "execution_count": 12,
     "metadata": {},
     "output_type": "execute_result"
    }
   ],
   "source": [
    "#Bài tập trên lớp từ 14:20 - 14:35\n",
    "\n",
    "#Cho ma trận \n",
    "Matran = [\n",
    "    [1, 2, 3], \n",
    "    [4, 5, 6], \n",
    "    [7, 8, 9]\n",
    "]\n",
    "\n",
    "#Lấy 4, 5, 6\n",
    "(Matran[1])\n",
    "#Lấy 2, 5\n",
    "(Matran[0][1], Matran[1][1])\n",
    "#Lấy 3, 4\n",
    "(Matran[0][2], Matran[1][0])\n",
    "#Lấy 9, 6, 3\n",
    "(Matran[2][2], Matran[1][2], Matran[0][2])\n",
    "\n",
    "\n"
   ]
  },
  {
   "cell_type": "code",
   "execution_count": 15,
   "metadata": {},
   "outputs": [
    {
     "name": "stdout",
     "output_type": "stream",
     "text": [
      "Câu 1: [4, 5, 6]\n",
      "Câu 2: [2, 5]\n",
      "Câu 3: [3, 4]\n",
      "Câu 4: [9, 6, 3]\n"
     ]
    }
   ],
   "source": [
    "#Cho ma trận sau:\n",
    "matran = [ \n",
    "    [1,2,3],\n",
    "    [4,5,6],\n",
    "    [7,8,9]\n",
    "]\n",
    "\n",
    "# Câu 1: Lấy 4, 5, 6\n",
    "result1 = matran[1]\n",
    "print(\"Câu 1:\", result1)\n",
    "# Câu 2: Lấy 2, 5\n",
    "result2 = [matran[0][1], matran[1][1]]\n",
    "print(\"Câu 2:\", result2)\n",
    "# Câu 3: Lấy 3, 4\n",
    "result3 = [matran[0][2], matran[1][0]]\n",
    "print(\"Câu 3:\", result3) \n",
    "# Câu 4: Lấy 9, 6, 3\n",
    "result4 = [matran[2][2], matran[1][2], matran[0][2]]\n",
    "print(\"Câu 4:\", result4)"
   ]
  },
  {
   "cell_type": "code",
   "execution_count": 14,
   "metadata": {},
   "outputs": [
    {
     "name": "stdout",
     "output_type": "stream",
     "text": [
      "Cách 1:\n",
      "1     2\n",
      "3     4\n",
      "5     6\n",
      "7     8\n",
      "9    10\n",
      "dtype: int64\n",
      "\n",
      "Cách 2:\n",
      "1     2\n",
      "3     4\n",
      "5     6\n",
      "7     8\n",
      "9    10\n",
      "dtype: int64\n"
     ]
    }
   ],
   "source": [
    "import pandas as pd\n",
    "x = [1,2,3,4,5,6,7,8,9,10]\n",
    "\n",
    "series = pd.Series(x)\n",
    "# Lấy ra các phần tử có số chẵn\n",
    "even1 = series[series % 2 == 0]\n",
    "print(\"Cách 1:\")\n",
    "print(even1)\n",
    "\n",
    "even3 = series.loc[series % 2 == 0]\n",
    "print(\"\\nCách 2:\")\n",
    "print(even3)\n"
   ]
  },
  {
   "cell_type": "code",
   "execution_count": 17,
   "metadata": {},
   "outputs": [
    {
     "name": "stdout",
     "output_type": "stream",
     "text": [
      "[2, 4, 6, 8, 10]\n",
      "[1, 3, 5, 7, 9]\n"
     ]
    }
   ],
   "source": [
    "x = [1,2,3,4,5,6,7,8,9,10]\n",
    "#Lấy chẵn\n",
    "mang_chan = [ num for num in x if num % 2== 0]\n",
    "print(mang_chan)\n",
    "#Lấy lẻ\n",
    "mang_le = [ num for num in x if num % 2== 1]\n",
    "print(mang_le)"
   ]
  },
  {
   "cell_type": "code",
   "execution_count": 18,
   "metadata": {},
   "outputs": [
    {
     "data": {
      "text/plain": [
       "array([[1., 1., 1.],\n",
       "       [1., 1., 1.],\n",
       "       [1., 1., 1.]])"
      ]
     },
     "execution_count": 18,
     "metadata": {},
     "output_type": "execute_result"
    }
   ],
   "source": [
    "np.ones((3,3))"
   ]
  },
  {
   "cell_type": "code",
   "execution_count": 19,
   "metadata": {},
   "outputs": [
    {
     "data": {
      "text/plain": [
       "array([0, 1, 2])"
      ]
     },
     "execution_count": 19,
     "metadata": {},
     "output_type": "execute_result"
    }
   ],
   "source": [
    "np.arange (3)"
   ]
  },
  {
   "cell_type": "code",
   "execution_count": 20,
   "metadata": {},
   "outputs": [
    {
     "data": {
      "text/plain": [
       "array([[1., 2., 3.],\n",
       "       [1., 2., 3.],\n",
       "       [1., 2., 3.]])"
      ]
     },
     "execution_count": 20,
     "metadata": {},
     "output_type": "execute_result"
    }
   ],
   "source": [
    "np.ones((3,3)) + np.arange (3)"
   ]
  },
  {
   "cell_type": "code",
   "execution_count": 24,
   "metadata": {},
   "outputs": [
    {
     "data": {
      "text/plain": [
       "array([0, 1, 2])"
      ]
     },
     "execution_count": 24,
     "metadata": {},
     "output_type": "execute_result"
    }
   ],
   "source": [
    "x = np.arange (3)\n",
    "x\n"
   ]
  },
  {
   "cell_type": "code",
   "execution_count": null,
   "metadata": {},
   "outputs": [],
   "source": [
    "x.shape "
   ]
  },
  {
   "cell_type": "code",
   "execution_count": null,
   "metadata": {},
   "outputs": [],
   "source": [
    "x = x.reshape((3,1))\n",
    "x"
   ]
  },
  {
   "cell_type": "code",
   "execution_count": null,
   "metadata": {},
   "outputs": [],
   "source": [
    "y = np.arange(3)\n",
    "y"
   ]
  },
  {
   "cell_type": "code",
   "execution_count": null,
   "metadata": {},
   "outputs": [],
   "source": [
    "x + y"
   ]
  },
  {
   "cell_type": "code",
   "execution_count": 4,
   "metadata": {},
   "outputs": [
    {
     "data": {
      "text/plain": [
       "(150, 5)"
      ]
     },
     "execution_count": 4,
     "metadata": {},
     "output_type": "execute_result"
    }
   ],
   "source": [
    "#Bài tập về nhà số 2\n",
    "\n",
    "#Tạo một mạng numpy có kích thước 150 x 5, Hãy tưởng tượng này chứa 150 mẫu về chiều cao, cân nặng, tuổi,\n",
    "#lương, GPA, của sinh viên UVL. \n",
    "#Chia mảng bốn cột đầu tiên thành một biến có tên là x và cột cuối cùng thành y \n",
    "#Chia x thành x_train và x_test chứa 70% dữ liệu và chia ý thành y_train và y_test, trong đó y_train chứa 70% dữ liệu.\n",
    "#Tạo 10 tập dữ liệu không chồng chéo của x_train\n",
    "\n",
    "import numpy as np\n",
    "data = np.random.uniform(0, 10, (150, 5))\n",
    "data.shape"
   ]
  },
  {
   "cell_type": "code",
   "execution_count": 5,
   "metadata": {},
   "outputs": [
    {
     "data": {
      "text/plain": [
       "((150, 4), (150,))"
      ]
     },
     "execution_count": 5,
     "metadata": {},
     "output_type": "execute_result"
    }
   ],
   "source": [
    "x = data[:, :-1]\n",
    "y = data[:, -1]\n",
    "x.shape, y.shape\n"
   ]
  },
  {
   "cell_type": "code",
   "execution_count": 6,
   "metadata": {},
   "outputs": [
    {
     "data": {
      "text/plain": [
       "150"
      ]
     },
     "execution_count": 6,
     "metadata": {},
     "output_type": "execute_result"
    }
   ],
   "source": [
    "dataset_size  = x.shape[0]\n",
    "dataset_size"
   ]
  },
  {
   "cell_type": "code",
   "execution_count": 7,
   "metadata": {},
   "outputs": [
    {
     "data": {
      "text/plain": [
       "105"
      ]
     },
     "execution_count": 7,
     "metadata": {},
     "output_type": "execute_result"
    }
   ],
   "source": [
    "train_size = int(dataset_size * 0.7)\n",
    "train_size"
   ]
  },
  {
   "cell_type": "code",
   "execution_count": 8,
   "metadata": {},
   "outputs": [
    {
     "data": {
      "text/plain": [
       "((105, 4), (45, 4))"
      ]
     },
     "execution_count": 8,
     "metadata": {},
     "output_type": "execute_result"
    }
   ],
   "source": [
    "x_train = x[:train_size]\n",
    "x_test = x[train_size:]\n",
    "\n",
    "x_train.shape, x_test.shape"
   ]
  },
  {
   "cell_type": "code",
   "execution_count": 9,
   "metadata": {},
   "outputs": [
    {
     "data": {
      "text/plain": [
       "10"
      ]
     },
     "execution_count": 9,
     "metadata": {},
     "output_type": "execute_result"
    }
   ],
   "source": [
    "split = x_train.shape[0]//10\n",
    "split\n"
   ]
  },
  {
   "cell_type": "code",
   "execution_count": 10,
   "metadata": {},
   "outputs": [
    {
     "name": "stdout",
     "output_type": "stream",
     "text": [
      "(10, 4)\n",
      "(10, 4)\n",
      "(10, 4)\n",
      "(10, 4)\n",
      "(10, 4)\n",
      "(10, 4)\n",
      "(10, 4)\n",
      "(10, 4)\n",
      "(10, 4)\n",
      "(10, 4)\n",
      "(5, 4)\n"
     ]
    }
   ],
   "source": [
    "for counter in range(0, x_train.shape[0], split):\n",
    "    print(x_train[counter:counter+split].shape)"
   ]
  },
  {
   "cell_type": "markdown",
   "metadata": {},
   "source": [
    "### 3. Matplotlib"
   ]
  },
  {
   "cell_type": "code",
   "execution_count": 1,
   "metadata": {},
   "outputs": [
    {
     "data": {
      "image/png": "[encoded data removed]",
      "text/plain": [
       "<Figure size 1000x600 with 1 Axes>"
      ]
     },
     "metadata": {},
     "output_type": "display_data"
    }
   ],
   "source": [
    "# Biểu đồ nhiều đường\n",
    "\n",
    "# Cho dữ liệu sau\n",
    "\n",
    "import matplotlib.pyplot as plt\n",
    "import numpy as np\n",
    "\n",
    "t = np.linspace(0, 10, 100)\n",
    "y1 = np.sin(t)\n",
    "y2 = np.cos(t)\n",
    "y3 = np.sin(t) * np.cos(t)\n",
    "\n",
    "#Tạo biều đồ các đường theo thời gian\n",
    "plt.figure(figsize=(10, 6))\n",
    "plt.plot(t, y1, label='sin(t)', color='red')\n",
    "plt.plot(t, y2, label='cos(t)', color='blue')\n",
    "plt.plot(t, y3, label='sin(t)*cos(t)', color='green')\n",
    "plt.xlabel('Time')\n",
    "plt.ylabel('Value')\n",
    "plt.title('Multiple Line Plots')\n",
    "plt.legend()\n",
    "plt.show()\n"
   ]
  },
  {
   "cell_type": "code",
   "execution_count": 3,
   "metadata": {},
   "outputs": [
    {
     "data": {
      "image/png": "[encoded data removed]",
      "text/plain": [
       "<Figure size 1000x600 with 1 Axes>"
      ]
     },
     "metadata": {},
     "output_type": "display_data"
    }
   ],
   "source": [
    "# Biểu đồ thanh nhóm \n",
    "\n",
    "# cho dữ liệu sau\n",
    "labels = [\"Q1\",\"Q2\",\"Q3\",\"Q4\"]\n",
    "A = [500, 700,800,600]\n",
    "B = [450,350,650,750]\n",
    "C = [500,250,850,600]\n",
    "#Vẽ biểu đồ thành nhóm thể hiện doanh thu của A, B, C trong 4 quý\n",
    "x = np.arange(len(labels))\n",
    "width = 0.2\n",
    "\n",
    "fig, ax = plt.subplots(figsize=(10, 6))\n",
    "bar1 = ax.bar(x - width, A, width, label='A')\n",
    "bar2 = ax.bar(x, B, width, label='B')\n",
    "\n",
    "bar3 = ax.bar(x + width, C, width, label='C')\n",
    "\n",
    "ax.set_xlabel('Quarters')\n",
    "ax.set_ylabel('Revenue')\n",
    "ax.set_title('Revenue by Quarters')\n",
    "\n",
    "ax.set_xticks(x)\n",
    "ax.set_xticklabels(labels)\n",
    "ax.legend()\n",
    "\n",
    "plt.show()\n"
   ]
  },
  {
   "cell_type": "code",
   "execution_count": 4,
   "metadata": {},
   "outputs": [
    {
     "data": {
      "image/png": "[encoded data removed]",
      "text/plain": [
       "<Figure size 1000x600 with 1 Axes>"
      ]
     },
     "metadata": {},
     "output_type": "display_data"
    }
   ],
   "source": [
    "#Biểu đò tròn\n",
    "Cty = [\"A\", \"B\", \"C\", \"D\"]\n",
    "thiphan = [30, 25, 25, 20]\n",
    "color = [\"#ff9999\", \"#66b3ff\", \"#99ff99\", \"#ffcc99\"]\n",
    "\n",
    "#Tạo biểu đồ tròn thể hiện thị phần của 4 công ty\n",
    "plt.figure(figsize=(10, 6))\n",
    "\n",
    "plt.pie(thiphan, labels=Cty, colors=color, autopct='%1.1f%%', startangle=90)\n",
    "plt.title('Market Share of Companies')\n",
    "plt.show()"
   ]
  }
 ],
 "metadata": {
  "kernelspec": {
   "display_name": "Python 3",
   "language": "python",
   "name": "python3"
  },
  "language_info": {
   "codemirror_mode": {
    "name": "ipython",
    "version": 3
   },
   "file_extension": ".py",
   "mimetype": "text/x-python",
   "name": "python",
   "nbconvert_exporter": "python",
   "pygments_lexer": "ipython3",
   "version": "3.11.4"
  }
 },
 "nbformat": 4,
 "nbformat_minor": 2
}
