{
 "cells": [
  {
   "cell_type": "code",
   "execution_count": 2,
   "metadata": {},
   "outputs": [
    {
     "data": {
      "text/plain": [
       "<function torch.cuda.current_device() -> int>"
      ]
     },
     "execution_count": 2,
     "metadata": {},
     "output_type": "execute_result"
    }
   ],
   "source": [
    "import torch\n",
    "torch.cuda.current_device"
   ]
  },
  {
   "cell_type": "code",
   "execution_count": 4,
   "metadata": {},
   "outputs": [
    {
     "data": {
      "text/plain": [
       "False"
      ]
     },
     "execution_count": 4,
     "metadata": {},
     "output_type": "execute_result"
    }
   ],
   "source": [
    "torch.cuda.is_available()"
   ]
  },
  {
   "cell_type": "code",
   "execution_count": 5,
   "metadata": {},
   "outputs": [
    {
     "data": {
      "text/plain": [
       "0"
      ]
     },
     "execution_count": 5,
     "metadata": {},
     "output_type": "execute_result"
    }
   ],
   "source": [
    "torch.cuda.memory_allocated()"
   ]
  },
  {
   "cell_type": "code",
   "execution_count": 6,
   "metadata": {},
   "outputs": [
    {
     "name": "stderr",
     "output_type": "stream",
     "text": [
      "C:\\Users\\amii9\\AppData\\Local\\Temp\\ipykernel_21216\\3499522927.py:1: FutureWarning: `torch.cuda.memory_cached` has been renamed to `torch.cuda.memory_reserved`\n",
      "  torch.cuda.memory_cached()\n"
     ]
    },
    {
     "data": {
      "text/plain": [
       "0"
      ]
     },
     "execution_count": 6,
     "metadata": {},
     "output_type": "execute_result"
    }
   ],
   "source": [
    "torch.cuda.memory_cached()"
   ]
  },
  {
   "cell_type": "markdown",
   "metadata": {},
   "source": [
    "### Dataset with pytorch"
   ]
  },
  {
   "cell_type": "code",
   "execution_count": 7,
   "metadata": {},
   "outputs": [
    {
     "data": {
      "text/html": [
       "<div>\n",
       "<style scoped>\n",
       "    .dataframe tbody tr th:only-of-type {\n",
       "        vertical-align: middle;\n",
       "    }\n",
       "\n",
       "    .dataframe tbody tr th {\n",
       "        vertical-align: top;\n",
       "    }\n",
       "\n",
       "    .dataframe thead th {\n",
       "        text-align: right;\n",
       "    }\n",
       "</style>\n",
       "<table border=\"1\" class=\"dataframe\">\n",
       "  <thead>\n",
       "    <tr style=\"text-align: right;\">\n",
       "      <th></th>\n",
       "      <th>Id</th>\n",
       "      <th>SepalLengthCm</th>\n",
       "      <th>SepalWidthCm</th>\n",
       "      <th>PetalLengthCm</th>\n",
       "      <th>PetalWidthCm</th>\n",
       "      <th>Species</th>\n",
       "    </tr>\n",
       "  </thead>\n",
       "  <tbody>\n",
       "    <tr>\n",
       "      <th>0</th>\n",
       "      <td>1</td>\n",
       "      <td>5.1</td>\n",
       "      <td>3.5</td>\n",
       "      <td>1.4</td>\n",
       "      <td>0.2</td>\n",
       "      <td>Iris-setosa</td>\n",
       "    </tr>\n",
       "    <tr>\n",
       "      <th>1</th>\n",
       "      <td>2</td>\n",
       "      <td>4.9</td>\n",
       "      <td>3.0</td>\n",
       "      <td>1.4</td>\n",
       "      <td>0.2</td>\n",
       "      <td>Iris-setosa</td>\n",
       "    </tr>\n",
       "    <tr>\n",
       "      <th>2</th>\n",
       "      <td>3</td>\n",
       "      <td>4.7</td>\n",
       "      <td>3.2</td>\n",
       "      <td>1.3</td>\n",
       "      <td>0.2</td>\n",
       "      <td>Iris-setosa</td>\n",
       "    </tr>\n",
       "    <tr>\n",
       "      <th>3</th>\n",
       "      <td>4</td>\n",
       "      <td>4.6</td>\n",
       "      <td>3.1</td>\n",
       "      <td>1.5</td>\n",
       "      <td>0.2</td>\n",
       "      <td>Iris-setosa</td>\n",
       "    </tr>\n",
       "    <tr>\n",
       "      <th>4</th>\n",
       "      <td>5</td>\n",
       "      <td>5.0</td>\n",
       "      <td>3.6</td>\n",
       "      <td>1.4</td>\n",
       "      <td>0.2</td>\n",
       "      <td>Iris-setosa</td>\n",
       "    </tr>\n",
       "  </tbody>\n",
       "</table>\n",
       "</div>"
      ],
      "text/plain": [
       "   Id  SepalLengthCm  SepalWidthCm  PetalLengthCm  PetalWidthCm      Species\n",
       "0   1            5.1           3.5            1.4           0.2  Iris-setosa\n",
       "1   2            4.9           3.0            1.4           0.2  Iris-setosa\n",
       "2   3            4.7           3.2            1.3           0.2  Iris-setosa\n",
       "3   4            4.6           3.1            1.5           0.2  Iris-setosa\n",
       "4   5            5.0           3.6            1.4           0.2  Iris-setosa"
      ]
     },
     "execution_count": 7,
     "metadata": {},
     "output_type": "execute_result"
    }
   ],
   "source": [
    "import torch\n",
    "import numpy as np \n",
    "import pandas as pd \n",
    "import matplotlib.pyplot as plt\n",
    "\n",
    "df = pd.read_csv('Iris.csv')\n",
    "df.head()"
   ]
  },
  {
   "cell_type": "code",
   "execution_count": 8,
   "metadata": {},
   "outputs": [
    {
     "data": {
      "text/plain": [
       "(150, 6)"
      ]
     },
     "execution_count": 8,
     "metadata": {},
     "output_type": "execute_result"
    }
   ],
   "source": [
    "df.shape"
   ]
  },
  {
   "cell_type": "code",
   "execution_count": 10,
   "metadata": {},
   "outputs": [],
   "source": [
    "from sklearn.preprocessing import LabelEncoder\n",
    "from sklearn.model_selection import train_test_split\n",
    "\n",
    "le = LabelEncoder()\n",
    "X = df.drop([\"Species\"], axis = 1).values\n",
    "y = le.fit_transform(df[\"Species\"].values)\n",
    "\n",
    "#chia dữ liệu với test size = 0.2\n",
    "X_train, X_test, y_train, y_test = train_test_split(X, y, test_size=0.2, random_state=42)\n",
    "\n",
    "X_train = torch.FloatTensor(X_train)\n",
    "X_test = torch.FloatTensor(X_test)\n",
    "y_train_train = torch.LongTensor(y_train).reshape(-1,1)\n",
    "y_test_test = torch.LongTensor(y_test).reshape(-1,1)"
   ]
  },
  {
   "cell_type": "code",
   "execution_count": 11,
   "metadata": {},
   "outputs": [
    {
     "name": "stdout",
     "output_type": "stream",
     "text": [
      "train size  120\n"
     ]
    }
   ],
   "source": [
    "print(\"train size \", len(y_train))"
   ]
  },
  {
   "cell_type": "code",
   "execution_count": 12,
   "metadata": {},
   "outputs": [
    {
     "name": "stdout",
     "output_type": "stream",
     "text": [
      "[0 1 2] [40 41 39]\n"
     ]
    }
   ],
   "source": [
    "labels, counts = np.unique(y_train, return_counts=True)\n",
    "print(labels, counts)"
   ]
  },
  {
   "cell_type": "code",
   "execution_count": null,
   "metadata": {},
   "outputs": [
    {
     "name": "stdout",
     "output_type": "stream",
     "text": [
      "tensor(63., grad_fn=<AddBackward0>)\n",
      "tensor(93.)\n"
     ]
    }
   ],
   "source": [
    " #Tính đạo hàm n=bằng pytorch\n",
    "def new_func():\n",
    "    #cho y = 2x^4 + x^3 + 3x^2 + 5x + 1\n",
    "    #Tính y\n",
    "    x = torch.tensor(2.0, requires_grad=True)\n",
    "    y = 2*x**4 + x**3 + 3*x**2 + 5*x + 1    \n",
    "    print(y)\n",
    "    y.backward()\n",
    "    print(x.grad)\n",
    "   \n",
    "\n",
    "\n",
    "new_func()"
   ]
  },
  {
   "cell_type": "code",
   "execution_count": 15,
   "metadata": {},
   "outputs": [
    {
     "name": "stdout",
     "output_type": "stream",
     "text": [
      "tensor(2., requires_grad=True)\n",
      "None\n"
     ]
    }
   ],
   "source": [
    "import torch \n",
    "#Tao mot tensor voi requirments_grad duoc dat thanh true\n",
    "x = torch.tensor(2.0, requires_grad=True)\n",
    "print(x)\n",
    "print(x.grad)\n"
   ]
  },
  {
   "cell_type": "code",
   "execution_count": 16,
   "metadata": {},
   "outputs": [
    {
     "name": "stdout",
     "output_type": "stream",
     "text": [
      "tensor(63., grad_fn=<AddBackward0>)\n"
     ]
    }
   ],
   "source": [
    "y = 2*x**4 + x**3 + 3*x**2 + 5*x + 1\n",
    "print(y)"
   ]
  },
  {
   "cell_type": "code",
   "execution_count": 18,
   "metadata": {},
   "outputs": [
    {
     "data": {
      "text/plain": [
       "<AddBackward0 at 0x220cf6639a0>"
      ]
     },
     "execution_count": 18,
     "metadata": {},
     "output_type": "execute_result"
    }
   ],
   "source": [
    "y.grad_fn"
   ]
  },
  {
   "cell_type": "code",
   "execution_count": 19,
   "metadata": {},
   "outputs": [],
   "source": [
    "y.backward()"
   ]
  },
  {
   "cell_type": "code",
   "execution_count": 20,
   "metadata": {},
   "outputs": [
    {
     "data": {
      "text/plain": [
       "tensor(93.)"
      ]
     },
     "execution_count": 20,
     "metadata": {},
     "output_type": "execute_result"
    }
   ],
   "source": [
    "x.grad"
   ]
  },
  {
   "cell_type": "code",
   "execution_count": 21,
   "metadata": {},
   "outputs": [
    {
     "name": "stdout",
     "output_type": "stream",
     "text": [
      "Giá trị của y: 435.0\n",
      "Độ dốc của đa thức tại x = 2: 1161.0\n"
     ]
    }
   ],
   "source": [
    "import torch\n",
    "# Bài tập \n",
    "# Tính y = 5x^6 + 3x^3 + 2x^1 + x + 2x + 5x^4 + 1\n",
    "# Cho biết độ dốc của đa thức trên tại điểm nào.\n",
    "x = torch.tensor(2.0, requires_grad=True)\n",
    "y = 5*x**6 + 3*x**3 + 2*x + x + 2*x + 5*x**4 + 1  # Chỉnh sửa công thức để đúng với đề bài\n",
    "print(f\"Giá trị của y: {y.item()}\")\n",
    "\n",
    "# Tính gradient\n",
    "y.backward()\n",
    "print(f\"Độ dốc của đa thức tại x = 2: {x.grad.item()}\")"
   ]
  },
  {
   "cell_type": "code",
   "execution_count": 35,
   "metadata": {},
   "outputs": [
    {
     "name": "stdout",
     "output_type": "stream",
     "text": [
      "dy/dx tại x = 2.0: tensor(25.)\n",
      "Lần 1: x = -0.5, dy/dx = 25.0\n",
      "Lần 2: x = -0.875, dy/dx = 3.75\n",
      "Lần 3: x = -1.2546875476837158, dy/dx = 3.796875\n",
      "Lần 4: x = -1.7250847816467285, dy/dx = 4.703972339630127\n",
      "Lần 5: x = -2.427826166152954, dy/dx = 7.027413368225098\n",
      "Lần 6: x = -3.7249975204467773, dy/dx = 12.971714973449707\n",
      "Lần 7: x = -6.897680282592773, dy/dx = 31.726829528808594\n",
      "Lần 8: x = -18.912006378173828, dy/dx = 120.14325714111328\n",
      "Lần 9: x = -119.14640808105469, dy/dx = 1002.3439331054688\n",
      "Lần 10: x = -4330.74755859375, dy/dx = 42116.01171875\n",
      "Giá trị x sau 10 vòng lặp: -4330.74755859375\n"
     ]
    }
   ],
   "source": [
    "#BTVN\n",
    "import torch\n",
    "\n",
    "# Tạo tensor x với giá trị ban đầu là 2.0 và yêu cầu tính gradient\n",
    "x = torch.tensor(2.0, requires_grad=True)\n",
    "\n",
    "# Định nghĩa hàm số y = x^3 + 2x^2 + 5x + 1\n",
    "def y(x):\n",
    "    return x**3 + 2*x**2 + 5*x + 1\n",
    "\n",
    "# Tính y tại x = 2.0\n",
    "y_val = y(x)\n",
    "\n",
    "# Tính gradient của y theo x\n",
    "y_val.backward()\n",
    "\n",
    "# In gradient dy/dx tại x = 2.0\n",
    "print(\"dy/dx tại x = 2.0:\", x.grad)\n",
    "\n",
    "# Gradient Descent\n",
    "alpha = 0.1  # Learning rate\n",
    "num_iterations = 10  # Số vòng lặp\n",
    "\n",
    "for i in range(num_iterations):\n",
    "    # Reset gradient trước mỗi vòng lặp\n",
    "    if x.grad is not None:\n",
    "        x.grad.zero_()\n",
    "    \n",
    "    # Tính giá trị của hàm số tại x hiện tại\n",
    "    y_val = y(x)\n",
    "    \n",
    "    # Tính gradient\n",
    "    y_val.backward()\n",
    "    \n",
    "    # Cập nhật x bằng Gradient Descent\n",
    "    with torch.no_grad():  # Tắt tính gradient trong quá trình cập nhật\n",
    "        x -= alpha * x.grad\n",
    "    \n",
    "    print(f\"Lần {i+1}: x = {x.item()}, dy/dx = {x.grad.item()}\")\n",
    "\n",
    "print(\"Giá trị x sau 10 vòng lặp:\", x.item())\n",
    "\n"
   ]
  },
  {
   "cell_type": "code",
   "execution_count": null,
   "metadata": {},
   "outputs": [
    {
     "name": "stdout",
     "output_type": "stream",
     "text": [
      "Epoch 10/100, Loss: 148.7448\n",
      "Epoch 20/100, Loss: 142.0632\n",
      "Epoch 30/100, Loss: 135.8994\n",
      "Epoch 40/100, Loss: 130.2133\n",
      "Epoch 50/100, Loss: 124.9678\n",
      "Epoch 60/100, Loss: 120.1287\n",
      "Epoch 70/100, Loss: 115.6646\n",
      "Epoch 80/100, Loss: 111.5465\n",
      "Epoch 90/100, Loss: 107.7474\n",
      "Epoch 100/100, Loss: 104.2428\n",
      "w: 2.164, b: 6.517\n"
     ]
    }
   ],
   "source": [
    "#BTVN 2\n",
    "import torch\n",
    "import numpy as np\n",
    "\n",
    "# Tạo dữ liệu giả\n",
    "np.random.seed(42)  # Để đảm bảo tính nhất quán\n",
    "X = np.random.uniform(1, 10, 100)  # 100 giá trị ngẫu nhiên từ 1 đến 10\n",
    "noise = np.random.normal(0, 1, 100)  # 100 giá trị nhiễu ngẫu nhiên\n",
    "Y = 3 * X + 5 + noise  # Y = 3X + 5 + noise\n",
    "\n",
    "# Chuyển đổi sang tensors\n",
    "X = torch.tensor(X, dtype=torch.float32).reshape(-1, 1)\n",
    "Y = torch.tensor(Y, dtype=torch.float32).reshape(-1, 1)\n",
    "\n",
    "# 1. Khởi tạo tham số w và b\n",
    "w = torch.randn(1, requires_grad=True, dtype=torch.float32)\n",
    "b = torch.randn(1, requires_grad=True, dtype=torch.float32)\n",
    "\n",
    "# 2. Hàm tính MSE\n",
    "def mse_loss(Y_pred, Y):\n",
    "    return torch.mean((Y_pred - Y)**2)\n",
    "\n",
    "# Learning rate\n",
    "alpha = 0.01\n",
    "num_iterations = 100\n",
    "\n",
    "# Vòng lặp huấn luyện\n",
    "for i in range(num_iterations):\n",
    "    # Dự đoán\n",
    "    Y_pred = X @ w + b\n",
    "\n",
    "    # Tính loss\n",
    "    loss = mse_loss(Y_pred, Y)\n",
    "\n",
    "    # Tính gradients\n",
    "    loss.backward()\n",
    "\n",
    "    # Cập nhật tham số\n",
    "    with torch.no_grad():\n",
    "        w -= alpha * w.grad\n",
    "        b -= alpha * b.grad\n",
    "\n",
    "    # Reset gradients\n",
    "    w.grad.zero_()\n",
    "    b.grad.zero_()\n",
    "\n",
    "    if (i+1) % 10 == 0:\n",
    "        print(f'Epoch {i+1}/{num_iterations}, Loss: {loss.item():.4f}')\n",
    "\n",
    "print(f'w: {w.item():.3f}, b: {b.item():.3f}')"
   ]
  },
  {
   "cell_type": "code",
   "execution_count": 37,
   "metadata": {},
   "outputs": [],
   "source": [
    "import torch \n",
    "import numpy as np\n"
   ]
  },
  {
   "cell_type": "code",
   "execution_count": 38,
   "metadata": {},
   "outputs": [
    {
     "data": {
      "text/plain": [
       "'2.6.0+cpu'"
      ]
     },
     "execution_count": 38,
     "metadata": {},
     "output_type": "execute_result"
    }
   ],
   "source": [
    "torch.__version__"
   ]
  },
  {
   "cell_type": "code",
   "execution_count": 24,
   "metadata": {},
   "outputs": [
    {
     "name": "stdout",
     "output_type": "stream",
     "text": [
      "<class 'numpy.ndarray'>\n"
     ]
    }
   ],
   "source": [
    "arr = np.array([1, 2, 3, 4, 5])\n",
    "print(type(arr))"
   ]
  },
  {
   "cell_type": "code",
   "execution_count": 25,
   "metadata": {},
   "outputs": [
    {
     "name": "stdout",
     "output_type": "stream",
     "text": [
      "tensor([1, 2, 3, 4, 5], dtype=torch.int32)\n"
     ]
    }
   ],
   "source": [
    "x = torch.from_numpy(arr)\n",
    "print(x)\n"
   ]
  },
  {
   "cell_type": "code",
   "execution_count": 26,
   "metadata": {},
   "outputs": [
    {
     "name": "stdout",
     "output_type": "stream",
     "text": [
      "torch.int32\n"
     ]
    }
   ],
   "source": [
    "print(x.dtype)"
   ]
  },
  {
   "cell_type": "code",
   "execution_count": 27,
   "metadata": {},
   "outputs": [
    {
     "name": "stdout",
     "output_type": "stream",
     "text": [
      "torch.IntTensor\n"
     ]
    }
   ],
   "source": [
    "print(x.type())"
   ]
  },
  {
   "cell_type": "code",
   "execution_count": 30,
   "metadata": {},
   "outputs": [
    {
     "data": {
      "text/plain": [
       "array([[ 0.,  1.,  2.],\n",
       "       [ 3.,  4.,  5.],\n",
       "       [ 6.,  7.,  8.],\n",
       "       [ 9., 10., 11.]])"
      ]
     },
     "execution_count": 30,
     "metadata": {},
     "output_type": "execute_result"
    }
   ],
   "source": [
    "arr2 = np.arange(0.,12.).reshape(4,3)\n",
    "arr2 "
   ]
  },
  {
   "cell_type": "code",
   "execution_count": 31,
   "metadata": {},
   "outputs": [
    {
     "name": "stdout",
     "output_type": "stream",
     "text": [
      "tensor([[ 0.,  1.,  2.],\n",
      "        [ 3.,  4.,  5.],\n",
      "        [ 6.,  7.,  8.],\n",
      "        [ 9., 10., 11.]], dtype=torch.float64)\n",
      "torch.DoubleTensor\n"
     ]
    }
   ],
   "source": [
    "x2 = torch.from_numpy(arr2)\n",
    "print(x2)\n",
    "print(x2.type())"
   ]
  },
  {
   "cell_type": "code",
   "execution_count": 32,
   "metadata": {},
   "outputs": [
    {
     "name": "stdout",
     "output_type": "stream",
     "text": [
      "tensor([0.], dtype=torch.float64)\n"
     ]
    }
   ],
   "source": [
    "arr = np.arange(0.5)\n",
    "x = torch.from_numpy(arr)\n",
    "print(x)\n",
    "\n"
   ]
  },
  {
   "cell_type": "code",
   "execution_count": 34,
   "metadata": {},
   "outputs": [
    {
     "name": "stdout",
     "output_type": "stream",
     "text": [
      "tensor([99.], dtype=torch.float64)\n"
     ]
    }
   ],
   "source": [
    "arr[0] = 99\n",
    "print(x)"
   ]
  },
  {
   "cell_type": "code",
   "execution_count": null,
   "metadata": {},
   "outputs": [],
   "source": [
    "#BTVN3\n",
    "#Giải thích lý do tại sao cho 2 trường hợp ở trên\n",
    "\n",
    "# Trường hợp 1: Bài toán tìm cực trị của hàm số y = x^3 + 2x^2 + 5x + 1\n",
    "# Mục tiêu: Tìm giá trị của x sao cho hàm số y đạt giá trị nhỏ nhất (cực tiểu).\n",
    "# Giải thích:\n",
    "#   - Gradient Descent là một thuật toán tối ưu hóa để tìm cực tiểu của một hàm số.\n",
    "#   - Bằng cách tính đạo hàm (gradient) của hàm số tại một điểm, ta biết hướng mà hàm số tăng nhanh nhất.\n",
    "#   - Gradient Descent di chuyển ngược hướng gradient (tức là hướng mà hàm số giảm nhanh nhất) để tìm cực tiểu.\n",
    "#   - Learning rate (alpha) quyết định kích thước bước di chuyển trong mỗi lần cập nhật.\n",
    "#   - Việc lặp lại quá trình này nhiều lần giúp x hội tụ về một giá trị gần với cực tiểu của hàm số.\n",
    "\n",
    "# Trường hợp 2: Bài toán Linear Regression (Hồi quy tuyến tính)\n",
    "# Mục tiêu: Tìm các tham số w (weight) và b (bias) sao cho đường thẳng y = w*x + b phù hợp nhất với dữ liệu.\n",
    "# Giải thích:\n",
    "#   - MSE (Mean Squared Error) là một hàm mất mát đo lường sự khác biệt giữa giá trị dự đoán và giá trị thực tế.\n",
    "#   - Mục tiêu là giảm thiểu MSE, tức là làm cho các dự đoán của mô hình gần với giá trị thực tế nhất có thể.\n",
    "#   - Gradient Descent được sử dụng để tìm các giá trị của w và b sao cho MSE đạt giá trị nhỏ nhất.\n",
    "#   - Tương tự như trường hợp 1, đạo hàm của MSE theo w và b cho biết hướng cần điều chỉnh w và b để giảm MSE.\n",
    "#   - Việc lặp lại quá trình này nhiều lần giúp w và b hội tụ về các giá trị tối ưu."
   ]
  },
  {
   "cell_type": "code",
   "execution_count": 39,
   "metadata": {},
   "outputs": [
    {
     "name": "stdout",
     "output_type": "stream",
     "text": [
      "Empty Tensor:\n",
      " tensor([[-3.6863e-18,  9.4307e-43,  0.0000e+00],\n",
      "        [ 0.0000e+00,  0.0000e+00,  0.0000e+00]])\n",
      "\n",
      "Zeros Tensor:\n",
      " tensor([[0., 0., 0.],\n",
      "        [0., 0., 0.]])\n",
      "\n",
      "Ones Tensor:\n",
      " tensor([[1., 1., 1.],\n",
      "        [1., 1., 1.]])\n",
      "\n",
      "Random Tensor:\n",
      " tensor([[0.2637, 0.1718, 0.6090],\n",
      "        [0.6097, 0.9249, 0.0018]])\n",
      "\n",
      "Original Tensor:\n",
      " tensor([ 0,  1,  2,  3,  4,  5,  6,  7,  8,  9, 10, 11])\n",
      "\n",
      "Reshaped Tensor with view:\n",
      " tensor([[ 0,  1,  2,  3],\n",
      "        [ 4,  5,  6,  7],\n",
      "        [ 8,  9, 10, 11]])\n",
      "\n",
      "Reshaped Tensor with view_as:\n",
      " tensor([[ 0,  1,  2,  3],\n",
      "        [ 4,  5,  6,  7],\n",
      "        [ 8,  9, 10, 11]])\n"
     ]
    }
   ],
   "source": [
    "#BTVN4\n",
    "import torch\n",
    "\n",
    "# Empty tensor\n",
    "empty_tensor = torch.empty(2, 3)\n",
    "print(\"Empty Tensor:\\n\", empty_tensor)\n",
    "\n",
    "# Zeros tensor\n",
    "zeros_tensor = torch.zeros(2, 3)\n",
    "print(\"\\nZeros Tensor:\\n\", zeros_tensor)\n",
    "\n",
    "# Ones tensor\n",
    "ones_tensor = torch.ones(2, 3)\n",
    "print(\"\\nOnes Tensor:\\n\", ones_tensor)\n",
    "\n",
    "# Random tensor\n",
    "random_tensor = torch.rand(2, 3)\n",
    "print(\"\\nRandom Tensor:\\n\", random_tensor)\n",
    "\n",
    "# Reshape tensor\n",
    "original_tensor = torch.arange(12)\n",
    "print(\"\\nOriginal Tensor:\\n\", original_tensor)\n",
    "\n",
    "# Reshape with view\n",
    "reshaped_tensor_view = original_tensor.view(3, 4)\n",
    "print(\"\\nReshaped Tensor with view:\\n\", reshaped_tensor_view)\n",
    "\n",
    "# Reshape with view_as\n",
    "another_tensor = torch.zeros(3, 4)\n",
    "reshaped_tensor_view_as = original_tensor.view_as(another_tensor)\n",
    "print(\"\\nReshaped Tensor with view_as:\\n\", reshaped_tensor_view_as)"
   ]
  }
 ],
 "metadata": {
  "kernelspec": {
   "display_name": "Python 3",
   "language": "python",
   "name": "python3"
  },
  "language_info": {
   "codemirror_mode": {
    "name": "ipython",
    "version": 3
   },
   "file_extension": ".py",
   "mimetype": "text/x-python",
   "name": "python",
   "nbconvert_exporter": "python",
   "pygments_lexer": "ipython3",
   "version": "3.11.3"
  }
 },
 "nbformat": 4,
 "nbformat_minor": 2
}
